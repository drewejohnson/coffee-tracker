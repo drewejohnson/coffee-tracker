{
 "cells": [
  {
   "cell_type": "code",
   "execution_count": null,
   "metadata": {
    "collapsed": true
   },
   "outputs": [],
   "source": [
    "from datetime import datetime\n",
    "\n",
    "from matplotlib import pyplot\n",
    "import pandas\n",
    "import seaborn"
   ]
  },
  {
   "cell_type": "code",
   "execution_count": null,
   "metadata": {
    "collapsed": true
   },
   "outputs": [],
   "source": [
    "seaborn.set(style='dark')\n",
    "chosenPalette='Set2'"
   ]
  },
  {
   "cell_type": "code",
   "execution_count": null,
   "metadata": {
    "collapsed": true
   },
   "outputs": [],
   "source": [
    "def dateParser(*args):\n",
    "    return datetime.strptime('-'.join([str(arg) for arg in args]),\n",
    "                            '%y-%m-%d-%H-%M')"
   ]
  },
  {
   "cell_type": "code",
   "execution_count": null,
   "metadata": {},
   "outputs": [],
   "source": [
    "data = pandas.read_csv('coffee-tracker.csv', header=None,\n",
    "                       parse_dates=[[0, 1, 2, 3, 4]],\n",
    "                       date_parser=dateParser)\n"
   ]
  },
  {
   "cell_type": "code",
   "execution_count": null,
   "metadata": {},
   "outputs": [],
   "source": [
    "data.columns = ['Datetime', 'Drink', 'Location', 'City', 'State']"
   ]
  },
  {
   "cell_type": "code",
   "execution_count": null,
   "metadata": {},
   "outputs": [],
   "source": [
    "data['date'] = pandas.Series([xx.date() for xx in data.Datetime])\n",
    "data['dateNum'] = pandas.Series([(xx.date() - data.Datetime[0].date()).days\n",
    "                                 for xx in data.Datetime])\n",
    "data['Local Time'] = pandas.Series([xx.hour + xx.minute / 60.\n",
    "                                   for xx in data.Datetime])\n",
    "data['weekday'] = pandas.Series([xx.weekday_name for xx in data.Datetime])\n",
    "data['Day of Week'] = pandas.Series([xx.dayofweek for xx in data.Datetime])"
   ]
  },
  {
   "cell_type": "code",
   "execution_count": null,
   "metadata": {
    "scrolled": true
   },
   "outputs": [],
   "source": [
    "ax = seaborn.swarmplot(data=data, x='Day of Week', y='Local Time', hue='Drink',palette=chosenPalette,\n",
    "                       order=['Sunday','Monday','Tuesday','Wednesday', 'Thursday','Friday','Saturday'])"
   ]
  },
  {
   "cell_type": "code",
   "execution_count": null,
   "metadata": {},
   "outputs": [],
   "source": [
    "ax.legend(ncol=4)"
   ]
  },
  {
   "cell_type": "code",
   "execution_count": null,
   "metadata": {},
   "outputs": [],
   "source": [
    "ax.show()"
   ]
  },
  {
   "cell_type": "code",
   "execution_count": null,
   "metadata": {
    "collapsed": true
   },
   "outputs": [],
   "source": []
  }
 ],
 "metadata": {
  "kernelspec": {
   "display_name": "Python 3",
   "language": "python",
   "name": "python3"
  },
  "language_info": {
   "codemirror_mode": {
    "name": "ipython",
    "version": 3
   },
   "file_extension": ".py",
   "mimetype": "text/x-python",
   "name": "python",
   "nbconvert_exporter": "python",
   "pygments_lexer": "ipython3",
   "version": "3.6.1"
  }
 },
 "nbformat": 4,
 "nbformat_minor": 2
}
